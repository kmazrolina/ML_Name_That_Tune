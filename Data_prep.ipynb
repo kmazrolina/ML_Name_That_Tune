{
 "cells": [
  {
   "cell_type": "markdown",
   "id": "b49e4bc0-2da5-4d5c-a6ce-54106e5ea7a0",
   "metadata": {},
   "source": [
    "# Preparation of the data"
   ]
  },
  {
   "cell_type": "markdown",
   "id": "8492f679-c505-4638-bdf5-05b70157b826",
   "metadata": {},
   "source": [
    "Initially the data were in albums directories and has a track number in the name. Also all of the files were mp3. Additionally, only the beginnings of the songs are needed for this project. So the songs will be cut to the same length (only beggining)."
   ]
  },
  {
   "cell_type": "markdown",
   "id": "7d0aeb46-b80f-400e-af36-a8894ba64646",
   "metadata": {},
   "source": [
    "### Importing the files"
   ]
  },
  {
   "cell_type": "code",
   "execution_count": 60,
   "id": "03eac3a9-7683-4484-a8b9-f38c7196a109",
   "metadata": {},
   "outputs": [
    {
     "name": "stdout",
     "output_type": "stream",
     "text": [
      "Anna Maria Jopek  - Gdy Śliczna Panna.mp3\n",
      "Andrzej Piaseczny - Lulajże Jezuniu.mp3\n",
      "Pospieszalscy - Jezusa Narodzonego.mp3\n",
      "Ewa Bem - Anioł pasterzom mówi.mp3\n",
      "Toples - Lulajze jezuniu.mp3\n",
      "GOLEC uORKIESTRA - Pódźmy wszyscy do stajenki.mp3\n",
      "Kapela Jarka Zawady - Pojdzmy wszyscy do stajenki.mp3\n",
      "Zbigniew Wodecki - Dzisiaj w Betlejem.mp3\n",
      "Toples - Gdy sliczna panna.mp3\n",
      "Vox - Bracia, patrzcie jeno.mp3\n",
      "Maryla Rodowicz - Przybieżeli Do Betlejem.mp3\n",
      "Anna Maria Jopek  - W Żłobie Leży.mp3\n",
      "Tomasz Blasiak Marcin Bosak Bartosz Porczyk - Bracia Patrzcie Jeno.mp3\n",
      "Vox - Do szopy, hej pasterze.mp3\n",
      "Universe - Jezus Malusieńki.mp3\n",
      "Natalia Kukulska - Gdy śliczna Panna.mp3\n",
      "Krzysztof Krawczyk - Do szopy hej pasterze.mp3\n",
      "Kayah - Oj maluśki, maluśki.mp3\n",
      "Bajm - W żłobie leży.mp3\n",
      "Piotr Rubik - W żłobie leży.mp3\n",
      "Ryszard Rynkowski - Pójdzmy wszyscy do stajenki.mp3\n",
      "Manitou - Skrzypi wóz.mp3\n",
      "Czerwone Gitary - Mości gospodarzu.mp3\n",
      "Arka Noego - Dzisiaj w Betlejem.mp3\n",
      "Stanisław Soyka - A wczora z wieczora.mp3\n",
      "Stanisław Soyka - Przybieżeli do Betlejem.mp3\n",
      "Magda Aniol - Aniol Pasterzom Mówil.mp3\n",
      "Anna Maria Jopek  - Z Narodzenia Pana.mp3\n",
      "Boys - Wesołą nowinę.mp3\n",
      "Beata Rybotycka - Kolęda dla nieobecnych.mp3\n",
      "Trebunie Tutki - Dnia jednego o północy.mp3\n",
      "Toples - Bog sie rodzi.mp3\n",
      "Magda Aniol - Dzisiaj w Betlejem.mp3\n",
      "M. Balcar, N. Kukulska, K. Stankiewicz, A. Piaseczny - Dzisiaj w Betlejem.mp3\n",
      "Allegro Dance - Do szopy hej pasterze.mp3\n",
      "Ryszard Rynkowski  - Cicha noc.mp3\n",
      "Krzysztof Krawczyk - Mędrcy Świata, Monarchowie.mp3\n",
      "Stokłosa i inni - Cicha noc.mp3\n",
      "Trebunie Tutki - Przybiezeli Do Betlejem.mp3\n",
      "Urszula - Nowy Rok bieży.mp3\n",
      "De Mono - Gdy śliczna Panna.mp3\n",
      "Czerwone Gitary - Dalej, dalej pędzą sanie.mp3\n",
      "Ultra - Dzisiaj w Betlejem.mp3\n",
      "Anna Maria Jopek  - Mędrcy Świata.mp3\n",
      "Ryszard Rynkowski - Gdy sie Chrystus rodzi.mp3\n",
      "Czerwone Gitary - Leć Kolędo.mp3\n",
      "Andrzej Piaseczny i Seweryn Krajewski - Pastorałka największych przyjaciół.mp3\n",
      "Stanisław Soyka - Aaniol pasterzom mowil.mp3\n",
      "Enej - A wczora z wieczora.mp3\n",
      "Stanislaw Soyka - Bog sie rodzi.mp3\n",
      "Czerwone Gitary - Mizerna, cicha.mp3\n",
      "Toples - Cicha noc.mp3\n",
      "Ryszard Rynkowski - Hej, w Dzień Narodzenia.mp3\n",
      "Maryla Rodowicz  - Oj maluśki, maluśki.mp3\n",
      "Blue Cafe i Kornelia Mzyk - Cicha noc.mp3\n",
      "Pospieszalscy - Polnoc juz byla.mp3\n",
      "Enej - Przybieżeli do Betlejem.mp3\n",
      "Toples - Jezus malusienki.mp3\n",
      "Stanisław Soyka - Ach ubogi żłobie.mp3\n",
      "Toples - Przybiezeli do Betlejem.mp3\n",
      "Budka Suflera - Wśród nocnej ciszy.mp3\n"
     ]
    }
   ],
   "source": [
    "import os \n",
    "\n",
    "data_directory = \"koledy/mp3\"  # Replacing with the actual directory name\n",
    "\n",
    "if os.path.exists(data_directory) and os.path.isdir(data_directory):\n",
    "    file_list = os.listdir(data_directory)\n",
    "\n",
    "    # Printing the modified list of file names\n",
    "    for file in file_list:\n",
    "        print(file)\n",
    "\n",
    "    # Adding dir name in the filename for further transformations\n",
    "    modified_file_list = [os.path.join(data_directory, file) for file in file_list]\n",
    "\n",
    "else:\n",
    "    print(f\"The directory {data_directory} does not exist or is not a directory.\")\n"
   ]
  },
  {
   "cell_type": "code",
   "execution_count": 56,
   "id": "269209f9-ace3-4d34-9eab-75da8c714b2e",
   "metadata": {},
   "outputs": [],
   "source": [
    "modified_file_list.remove(\"koledy/mp3/.DS_Store\")"
   ]
  },
  {
   "cell_type": "markdown",
   "id": "94967809-ed2d-4861-85e6-1fab6ac5e745",
   "metadata": {},
   "source": [
    "#### Renaming Files"
   ]
  },
  {
   "cell_type": "markdown",
   "id": "7c843e5b-191d-4281-abbc-c8c9fabe0961",
   "metadata": {},
   "source": [
    "All of the file names follow a pattern: \"Artist - Title.mp3\". As this project aims to focus on traditional melody recognition, not on artist or musical style recognition, the artist prefix in the file name is not needed. Some melodies are repeated in the data set (sung by different artists). It is nessecary to label them with numbers, so no data is lost. "
   ]
  },
  {
   "cell_type": "code",
   "execution_count": 61,
   "id": "d50c1ab6-7ff2-43c1-b0b6-d19373deae8f",
   "metadata": {},
   "outputs": [
    {
     "data": {
      "text/plain": [
       "['Gdy Śliczna Panna.mp3',\n",
       " 'Lulajże Jezuniu.mp3',\n",
       " 'Jezusa Narodzonego.mp3',\n",
       " 'Anioł pasterzom mówi.mp3',\n",
       " 'Lulajze jezuniu.mp3',\n",
       " 'Pódźmy wszyscy do stajenki.mp3',\n",
       " 'Pojdzmy wszyscy do stajenki.mp3',\n",
       " 'Dzisiaj w Betlejem.mp3',\n",
       " 'Gdy sliczna panna.mp3',\n",
       " 'Bracia, patrzcie jeno.mp3',\n",
       " 'Przybieżeli Do Betlejem.mp3',\n",
       " 'W Żłobie Leży.mp3',\n",
       " 'Bracia Patrzcie Jeno.mp3',\n",
       " 'Do szopy, hej pasterze.mp3',\n",
       " 'Jezus Malusieńki.mp3',\n",
       " 'Gdy śliczna Panna.mp3',\n",
       " 'Do szopy hej pasterze.mp3',\n",
       " 'Oj maluśki, maluśki.mp3',\n",
       " 'W żłobie leży.mp3',\n",
       " 'W żłobie leży.mp3',\n",
       " 'Pójdzmy wszyscy do stajenki.mp3',\n",
       " 'Skrzypi wóz.mp3',\n",
       " 'Mości gospodarzu.mp3',\n",
       " 'Dzisiaj w Betlejem.mp3',\n",
       " 'A wczora z wieczora.mp3',\n",
       " 'Przybieżeli do Betlejem.mp3',\n",
       " 'Aniol Pasterzom Mówil.mp3',\n",
       " 'Z Narodzenia Pana.mp3',\n",
       " 'Wesołą nowinę.mp3',\n",
       " 'Kolęda dla nieobecnych.mp3',\n",
       " 'Dnia jednego o północy.mp3',\n",
       " 'Bog sie rodzi.mp3',\n",
       " 'Dzisiaj w Betlejem.mp3',\n",
       " 'Dzisiaj w Betlejem.mp3',\n",
       " 'Do szopy hej pasterze.mp3',\n",
       " 'Cicha noc.mp3',\n",
       " 'Mędrcy Świata, Monarchowie.mp3',\n",
       " 'Cicha noc.mp3',\n",
       " 'Przybiezeli Do Betlejem.mp3',\n",
       " 'Nowy Rok bieży.mp3',\n",
       " 'Gdy śliczna Panna.mp3',\n",
       " 'Dalej, dalej pędzą sanie.mp3',\n",
       " 'Dzisiaj w Betlejem.mp3',\n",
       " 'Mędrcy Świata.mp3',\n",
       " 'Gdy sie Chrystus rodzi.mp3',\n",
       " 'Leć Kolędo.mp3',\n",
       " 'Pastorałka największych przyjaciół.mp3',\n",
       " 'Aaniol pasterzom mowil.mp3',\n",
       " 'A wczora z wieczora.mp3',\n",
       " 'Bog sie rodzi.mp3',\n",
       " 'Mizerna, cicha.mp3',\n",
       " 'Cicha noc.mp3',\n",
       " 'Hej, w Dzień Narodzenia.mp3',\n",
       " 'Oj maluśki, maluśki.mp3',\n",
       " 'Cicha noc.mp3',\n",
       " 'Polnoc juz byla.mp3',\n",
       " 'Przybieżeli do Betlejem.mp3',\n",
       " 'Jezus malusienki.mp3',\n",
       " 'Ach ubogi żłobie.mp3',\n",
       " 'Przybiezeli do Betlejem.mp3',\n",
       " 'Wśród nocnej ciszy.mp3']"
      ]
     },
     "execution_count": 61,
     "metadata": {},
     "output_type": "execute_result"
    }
   ],
   "source": [
    "# Modifying the list to keep only the second part after splitting (melody name)\n",
    "melody_name_list = [s.split(' - ')[1] for s in modified_file_list]\n",
    "melody_name_list"
   ]
  },
  {
   "cell_type": "markdown",
   "id": "4aee8da9-1505-45dc-af91-ab93e38781c9",
   "metadata": {},
   "source": [
    "#### Detecting which melodies are repeated"
   ]
  },
  {
   "cell_type": "code",
   "execution_count": 62,
   "id": "c5632ffb-8e9f-4c1c-b27c-65af333351e0",
   "metadata": {},
   "outputs": [
    {
     "name": "stdout",
     "output_type": "stream",
     "text": [
      "Indices of repeated elements: {'Dzisiaj w Betlejem.mp3': [7, 23, 32, 33, 42], 'Gdy śliczna Panna.mp3': [15, 40], 'Do szopy hej pasterze.mp3': [16, 34], 'Oj maluśki, maluśki.mp3': [17, 53], 'W żłobie leży.mp3': [18, 19], 'A wczora z wieczora.mp3': [24, 48], 'Przybieżeli do Betlejem.mp3': [25, 56], 'Bog sie rodzi.mp3': [31, 49], 'Cicha noc.mp3': [35, 37, 51, 54]}\n"
     ]
    }
   ],
   "source": [
    "# Create a dictionary to store indices of repeated elements\n",
    "index_dict = {}\n",
    "\n",
    "for i, element in enumerate(melody_name_list):\n",
    "    if element in index_dict:\n",
    "        index_dict[element].append(i)\n",
    "    else:\n",
    "        index_dict[element] = [i]\n",
    "\n",
    "# Filter the dictionary to keep only repeated elements\n",
    "repeated_indices_dict = {element: indices for element, indices in index_dict.items() if len(indices) > 1}\n",
    "\n",
    "# Print the dictionary of repeated elements and their indices\n",
    "print(\"Indices of repeated elements:\", repeated_indices_dict)\n"
   ]
  },
  {
   "cell_type": "markdown",
   "id": "4b3ec9de-d5d0-4cd3-a7fb-8f5cc91f5dd1",
   "metadata": {},
   "source": [
    "Next the modification of the file names should be done by first adding indexes to repeated melodies, then removing the artist name."
   ]
  },
  {
   "cell_type": "code",
   "execution_count": 63,
   "id": "0047199e-b24e-4cf3-b869-883d16f0e0c3",
   "metadata": {},
   "outputs": [
    {
     "name": "stdout",
     "output_type": "stream",
     "text": [
      "Gdy Śliczna Panna.mp3\n",
      "Lulajże Jezuniu.mp3\n",
      "Jezusa Narodzonego.mp3\n",
      "Anioł pasterzom mówi.mp3\n",
      "Lulajze jezuniu.mp3\n",
      "Pódźmy wszyscy do stajenki.mp3\n",
      "Pojdzmy wszyscy do stajenki.mp3\n",
      "Dzisiaj w Betlejem_7.mp3\n",
      "Gdy sliczna panna.mp3\n",
      "Bracia, patrzcie jeno.mp3\n",
      "Przybieżeli Do Betlejem.mp3\n",
      "W Żłobie Leży.mp3\n",
      "Bracia Patrzcie Jeno.mp3\n",
      "Do szopy, hej pasterze.mp3\n",
      "Jezus Malusieńki.mp3\n",
      "Gdy śliczna Panna_15.mp3\n",
      "Do szopy hej pasterze_16.mp3\n",
      "Oj maluśki, maluśki_17.mp3\n",
      "W żłobie leży_18.mp3\n",
      "W żłobie leży_19.mp3\n",
      "Pójdzmy wszyscy do stajenki.mp3\n",
      "Skrzypi wóz.mp3\n",
      "Mości gospodarzu.mp3\n",
      "Dzisiaj w Betlejem_23.mp3\n",
      "A wczora z wieczora_24.mp3\n",
      "Przybieżeli do Betlejem_25.mp3\n",
      "Aniol Pasterzom Mówil.mp3\n",
      "Z Narodzenia Pana.mp3\n",
      "Wesołą nowinę.mp3\n",
      "Kolęda dla nieobecnych.mp3\n",
      "Dnia jednego o północy.mp3\n",
      "Bog sie rodzi_31.mp3\n",
      "Dzisiaj w Betlejem_32.mp3\n",
      "Dzisiaj w Betlejem_33.mp3\n",
      "Do szopy hej pasterze_34.mp3\n",
      "Cicha noc_35.mp3\n",
      "Mędrcy Świata, Monarchowie.mp3\n",
      "Cicha noc_37.mp3\n",
      "Przybiezeli Do Betlejem.mp3\n",
      "Nowy Rok bieży.mp3\n",
      "Gdy śliczna Panna_40.mp3\n",
      "Dalej, dalej pędzą sanie.mp3\n",
      "Dzisiaj w Betlejem_42.mp3\n",
      "Mędrcy Świata.mp3\n",
      "Gdy sie Chrystus rodzi.mp3\n",
      "Leć Kolędo.mp3\n",
      "Pastorałka największych przyjaciół.mp3\n",
      "Aaniol pasterzom mowil.mp3\n",
      "A wczora z wieczora_48.mp3\n",
      "Bog sie rodzi_49.mp3\n",
      "Mizerna, cicha.mp3\n",
      "Cicha noc_51.mp3\n",
      "Hej, w Dzień Narodzenia.mp3\n",
      "Oj maluśki, maluśki_53.mp3\n",
      "Cicha noc_54.mp3\n",
      "Polnoc juz byla.mp3\n",
      "Przybieżeli do Betlejem_56.mp3\n",
      "Jezus malusienki.mp3\n",
      "Ach ubogi żłobie.mp3\n",
      "Przybiezeli do Betlejem.mp3\n",
      "Wśród nocnej ciszy.mp3\n"
     ]
    }
   ],
   "source": [
    "# Iterate through the files in the directory\n",
    "for filename in os.listdir(data_directory):\n",
    "    file_path = os.path.join(data_directory, filename)\n",
    "    \n",
    "    # Check if the file is a regular file\n",
    "    if os.path.isfile(file_path):\n",
    "        melody_name = (filename.split(' - ')[1])\n",
    "        # Check if the base filename has repeated indices\n",
    "        if melody_name in repeated_indices_dict.keys():\n",
    "            # Determine the repeated indices for the current base filename\n",
    "            next_index = repeated_indices_dict[melody_name][0]\n",
    "            # Rename the file by appending a unique number to the base filename\n",
    "            new_filename = f\"{melody_name[:-4]}_{next_index}.mp3\"\n",
    "            \n",
    "            repeated_indices_dict[melody_name].remove(next_index)\n",
    "        else:\n",
    "            new_filename = melody_name\n",
    "\n",
    "        print(new_filename)\n",
    "        new_file_path = os.path.join(data_directory, new_filename)\n",
    "\n",
    "        # Rename the file\n",
    "        os.rename(file_path, new_file_path)\n",
    "        \n"
   ]
  },
  {
   "cell_type": "code",
   "execution_count": 64,
   "id": "90520483-9923-4cee-8f93-933ab1bb0955",
   "metadata": {},
   "outputs": [
    {
     "name": "stdout",
     "output_type": "stream",
     "text": [
      "A wczora z wieczora_24.mp3\n",
      "Mości gospodarzu.mp3\n",
      "Dzisiaj w Betlejem_42.mp3\n",
      "Przybieżeli do Betlejem_25.mp3\n",
      "Lulajże Jezuniu.mp3\n",
      "Wesołą nowinę.mp3\n",
      "Pastorałka największych przyjaciół.mp3\n",
      "Kolęda dla nieobecnych.mp3\n",
      "Polnoc juz byla.mp3\n",
      "Aniol Pasterzom Mówil.mp3\n",
      "Przybiezeli Do Betlejem.mp3\n",
      "Dnia jednego o północy.mp3\n",
      "Bracia, patrzcie jeno.mp3\n",
      "Ach ubogi żłobie.mp3\n",
      "Dalej, dalej pędzą sanie.mp3\n",
      "Jezusa Narodzonego.mp3\n",
      "Mędrcy Świata.mp3\n",
      "Dzisiaj w Betlejem_23.mp3\n",
      "Pódźmy wszyscy do stajenki.mp3\n",
      "Nowy Rok bieży.mp3\n",
      "Aaniol pasterzom mowil.mp3\n",
      "Przybieżeli Do Betlejem.mp3\n",
      "Gdy sie Chrystus rodzi.mp3\n",
      "Mędrcy Świata, Monarchowie.mp3\n",
      "Pojdzmy wszyscy do stajenki.mp3\n",
      "Do szopy, hej pasterze.mp3\n",
      "Przybieżeli do Betlejem_56.mp3\n",
      "Do szopy hej pasterze_16.mp3\n",
      "Bog sie rodzi_31.mp3\n",
      "Mizerna, cicha.mp3\n",
      "Oj maluśki, maluśki_53.mp3\n",
      "Hej, w Dzień Narodzenia.mp3\n",
      "Dzisiaj w Betlejem_33.mp3\n",
      "Skrzypi wóz.mp3\n",
      "Gdy śliczna Panna_15.mp3\n",
      "Dzisiaj w Betlejem_32.mp3\n",
      "W żłobie leży_18.mp3\n",
      "Bracia Patrzcie Jeno.mp3\n",
      "Z Narodzenia Pana.mp3\n",
      "W żłobie leży_19.mp3\n",
      "Gdy Śliczna Panna.mp3\n",
      "A wczora z wieczora_48.mp3\n",
      "Cicha noc_37.mp3\n",
      "Jezus malusienki.mp3\n",
      "Jezus Malusieńki.mp3\n",
      "Leć Kolędo.mp3\n",
      "Cicha noc_35.mp3\n",
      "Do szopy hej pasterze_34.mp3\n",
      "Gdy sliczna panna.mp3\n",
      "Lulajze jezuniu.mp3\n",
      "Wśród nocnej ciszy.mp3\n",
      "Bog sie rodzi_49.mp3\n",
      "Oj maluśki, maluśki_17.mp3\n",
      "W Żłobie Leży.mp3\n",
      "Cicha noc_51.mp3\n",
      "Pójdzmy wszyscy do stajenki.mp3\n",
      "Dzisiaj w Betlejem_7.mp3\n",
      "Anioł pasterzom mówi.mp3\n",
      "Cicha noc_54.mp3\n",
      "Gdy śliczna Panna_40.mp3\n"
     ]
    }
   ],
   "source": [
    "def list_files(data_directory):\n",
    "    # List files in the specified directory (default is the current directory)\n",
    "    files = os.listdir(data_directory)\n",
    "\n",
    "    # Print the list of files\n",
    "    for file in files:\n",
    "        print(file)\n",
    "\n",
    "# Call the function with the specified directory path (optional, defaults to the current directory)\n",
    "list_files(\"koledy/mp3\")\n"
   ]
  },
  {
   "cell_type": "markdown",
   "id": "4660d7ad-7114-4223-8039-4825f78325c4",
   "metadata": {},
   "source": [
    "### Renaming "
   ]
  },
  {
   "cell_type": "markdown",
   "id": "e563b883-b019-4c6f-9dc9-f98014247cf7",
   "metadata": {},
   "source": [
    "It is requeried for further processing of the data that filenames do not contain spaces or Polish characters."
   ]
  },
  {
   "cell_type": "code",
   "execution_count": 68,
   "id": "d0a604b7-9bc4-4247-81ac-3764629ef49d",
   "metadata": {},
   "outputs": [],
   "source": [
    "def normalize_filename(filename):\n",
    "    # Replace spaces with underscores\n",
    "    filename = filename.replace(\" \", \"_\")\n",
    "    filename = filename.replace(\",\", \"\")\n",
    "    # Replace Polish characters with their normal counterparts\n",
    "    polish_chars = {'ą': 'a', 'ć': 'c', 'ę': 'e', 'ł': 'l', 'ń': 'n', 'ó': 'o', 'ś': 's', 'ź': 'z', 'ż': 'z'}\n",
    "    for polish_char, normal_char in polish_chars.items():\n",
    "        filename = filename.replace(polish_char, normal_char)\n",
    "\n",
    "    # Convert all characters to lowercase\n",
    "    filename = filename.lower()\n",
    "    return filename\n",
    "\n",
    "def normalize_files(directory_path):\n",
    "    # List all files in the specified directory\n",
    "    files = [file for file in os.listdir(directory_path) if os.path.isfile(os.path.join(directory_path, file))]\n",
    "\n",
    "    # Iterate through files and normalize filenames\n",
    "    for file in files:\n",
    "        old_filepath = os.path.join(directory_path, file)\n",
    "        new_filename = normalize_filename(file)\n",
    "        new_filepath = os.path.join(directory_path, new_filename)\n",
    "\n",
    "        # Rename the file\n",
    "        os.rename(old_filepath, new_filepath)\n",
    "\n",
    "# Call the function with the specified directory path (optional, defaults to the current directory)\n",
    "normalize_files(data_directory)\n"
   ]
  },
  {
   "cell_type": "markdown",
   "id": "b0e8f0f1-3f08-4810-a145-b90d7ec0568b",
   "metadata": {},
   "source": [
    "## The files are ready to be used in next steps! "
   ]
  },
  {
   "cell_type": "code",
   "execution_count": null,
   "id": "9bf39c4a-cd19-4f51-af0e-4538a7c92cf9",
   "metadata": {},
   "outputs": [],
   "source": []
  }
 ],
 "metadata": {
  "kernelspec": {
   "display_name": "audio_project_env",
   "language": "python",
   "name": "audio_project_env"
  },
  "language_info": {
   "codemirror_mode": {
    "name": "ipython",
    "version": 3
   },
   "file_extension": ".py",
   "mimetype": "text/x-python",
   "name": "python",
   "nbconvert_exporter": "python",
   "pygments_lexer": "ipython3",
   "version": "3.11.6"
  }
 },
 "nbformat": 4,
 "nbformat_minor": 5
}
